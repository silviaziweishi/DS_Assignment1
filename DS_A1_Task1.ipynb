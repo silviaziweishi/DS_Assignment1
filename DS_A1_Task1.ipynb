{
 "cells": [
  {
   "cell_type": "markdown",
   "metadata": {},
   "source": [
    "# Part 1: data preprocessing and restructuring"
   ]
  },
  {
   "cell_type": "code",
   "execution_count": 1,
   "metadata": {},
   "outputs": [
    {
     "name": "stdout",
     "output_type": "stream",
     "text": [
      "time taken to read csv with chunks: 0.0041048526763916016 sec\n"
     ]
    }
   ],
   "source": [
    "import pandas as pd\n",
    "import time \n",
    "\n",
    "#read the original file\n",
    "#use chunksize to reduce the loading time\n",
    "\n",
    "start = time.time()\n",
    "df = pd.read_csv('Assignment1_data.csv',chunksize=1000000)\n",
    "# print(df.to_string())\n",
    "end = time.time()\n",
    "pd_df = pd.concat(df)\n",
    "\n",
    "print(\"time taken to read csv with chunks:\",(end-start),\"sec\")"
   ]
  },
  {
   "cell_type": "code",
   "execution_count": 2,
   "metadata": {},
   "outputs": [
    {
     "name": "stdout",
     "output_type": "stream",
     "text": [
      "shape: (3574594, 10)\n",
      "rows: 3574594\n",
      "columns: 10\n"
     ]
    }
   ],
   "source": [
    "print(\"shape:\",pd_df.shape)\n",
    "print(\"rows:\", pd_df.shape[0])\n",
    "print(\"columns:\",pd_df.shape[1])"
   ]
  },
  {
   "cell_type": "code",
   "execution_count": 3,
   "metadata": {},
   "outputs": [
    {
     "name": "stdout",
     "output_type": "stream",
     "text": [
      "        ID               Date_Time  Year     Month  Mdate     Day  Time  \\\n",
      "0  2887628  11/01/2019 05:00:00 PM  2019  November      1  Friday    17   \n",
      "1  2887629  11/01/2019 05:00:00 PM  2019  November      1  Friday    17   \n",
      "2  2887630  11/01/2019 05:00:00 PM  2019  November      1  Friday    17   \n",
      "3  2887631  11/01/2019 05:00:00 PM  2019  November      1  Friday    17   \n",
      "4  2887632  11/01/2019 05:00:00 PM  2019  November      1  Friday    17   \n",
      "\n",
      "   Sensor_ID                   Sensor_Name Hourly_Counts  \n",
      "0         34          Flinders St-Spark La           300  \n",
      "1         39                  Alfred Place           604  \n",
      "2         37               Lygon St (East)           216  \n",
      "3         40  Lonsdale St-Spring St (West)           627  \n",
      "4         36               Queen St (West)           774  \n"
     ]
    }
   ],
   "source": [
    "print(pd_df.head())"
   ]
  },
  {
   "cell_type": "code",
   "execution_count": 4,
   "metadata": {},
   "outputs": [],
   "source": [
    "df_nodup = pd_df.drop_duplicates()"
   ]
  },
  {
   "cell_type": "code",
   "execution_count": 6,
   "metadata": {},
   "outputs": [
    {
     "name": "stdout",
     "output_type": "stream",
     "text": [
      "time taken to write date_info: 6.136405944824219 sec\n",
      "shape: (3574594, 10)\n",
      "rows: 3574594\n",
      "columns: 10\n"
     ]
    }
   ],
   "source": [
    "#write the date_info file \n",
    "start = time.time()\n",
    "df_nodup[['ID','Date_Time','Day']].to_csv('date_info2.csv',header=False,index=False)\n",
    "end = time.time()\n",
    "print(\"time taken to write date_info:\",(end-start),\"sec\")\n",
    "print(\"shape:\",df_nodup.shape)\n",
    "print(\"rows:\", df_nodup.shape[0])\n",
    "print(\"columns:\",df_nodup.shape[1])"
   ]
  },
  {
   "cell_type": "code",
   "execution_count": 7,
   "metadata": {},
   "outputs": [
    {
     "name": "stdout",
     "output_type": "stream",
     "text": [
      "time taken to write sensor_info: 4.703268051147461 sec\n",
      "shape: (3574594, 10)\n",
      "rows: 3574594\n",
      "columns: 10\n"
     ]
    }
   ],
   "source": [
    "#write the sensor_info file \n",
    "start = time.time()\n",
    "df_nodup[['Sensor_ID','Sensor_Name']].to_csv('sensor_info2.csv',header=False,index=False)\n",
    "end = time.time()\n",
    "print(\"time taken to write sensor_info:\",(end-start),\"sec\")\n",
    "print(\"shape:\",df_nodup.shape)\n",
    "print(\"rows:\", df_nodup.shape[0])\n",
    "print(\"columns:\",df_nodup.shape[1])"
   ]
  },
  {
   "cell_type": "code",
   "execution_count": 8,
   "metadata": {},
   "outputs": [
    {
     "name": "stdout",
     "output_type": "stream",
     "text": [
      "time taken to write count_info: 4.356667995452881 sec\n",
      "shape: (3574594, 10)\n",
      "rows: 3574594\n",
      "columns: 10\n"
     ]
    }
   ],
   "source": [
    "#write the sensor_info file \n",
    "start = time.time()\n",
    "df_nodup[['ID','Sensor_ID','Hourly_Counts']].to_csv('count_info2.csv',header=False,index=False)\n",
    "end = time.time()\n",
    "print(\"time taken to write count_info:\",(end-start),\"sec\")\n",
    "print(\"shape:\",df_nodup.shape)\n",
    "print(\"rows:\", df_nodup.shape[0])\n",
    "print(\"columns:\",df_nodup.shape[1])"
   ]
  },
  {
   "cell_type": "markdown",
   "metadata": {},
   "source": [
    "time taken to read csv with chunks: 0.0041048526763916016 sec\n",
    "time taken to write date_info: 6.136405944824219 sec\n",
    "time taken to write sensor_info: 4.703268051147461 sec\n",
    "time taken to write count_info: 4.356667995452881 sec"
   ]
  },
  {
   "cell_type": "markdown",
   "metadata": {},
   "source": [
    "# Part 2: scripts for loading .csv file to derby database"
   ]
  },
  {
   "cell_type": "code",
   "execution_count": null,
   "metadata": {},
   "outputs": [],
   "source": []
  }
 ],
 "metadata": {
  "kernelspec": {
   "display_name": "Python 3",
   "language": "python",
   "name": "python3"
  },
  "language_info": {
   "codemirror_mode": {
    "name": "ipython",
    "version": 3
   },
   "file_extension": ".py",
   "mimetype": "text/x-python",
   "name": "python",
   "nbconvert_exporter": "python",
   "pygments_lexer": "ipython3",
   "version": "3.8.5"
  }
 },
 "nbformat": 4,
 "nbformat_minor": 4
}
